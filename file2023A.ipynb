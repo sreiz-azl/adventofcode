{
 "cells": [
  {
   "attachments": {},
   "cell_type": "markdown",
   "metadata": {},
   "source": [
    "## Advent of code 2023 day 1-10\n",
    "See https://adventofcode.com/"
   ]
  },
  {
   "cell_type": "code",
   "execution_count": null,
   "metadata": {},
   "outputs": [],
   "source": [
    "# note that this notebook requires the .venv environment (which is set up with pypy3.10-v7.3.13-win64)\n",
    "# to activate it from a git bash shell: source .venv/Scripts/activate\n",
    "\n",
    "import collections\n",
    "import itertools\n",
    "import functools\n",
    "import re\n",
    "import copy\n",
    "import math\n",
    "import sys\n",
    "import time\n",
    "import json\n",
    "import heapq\n",
    "import bisect\n",
    "import random\n",
    "import sortedcontainers\n",
    "\n",
    "import zio"
   ]
  },
  {
   "cell_type": "code",
   "execution_count": null,
   "metadata": {},
   "outputs": [],
   "source": [
    "# version check and timestamp\n",
    "# NB the timestamp supports ranking using an honor system, before starting include this line\n",
    "# in the header of your solution (which should start with a line like # 2019 day 2), then whenever you want save\n",
    "# a private leaderboard json file, and run python privaterank.py filename.json\n",
    "\n",
    "print(f'python version: {sys.version}')\n",
    "print(f'# start_ts={int(time.time())}')"
   ]
  },
  {
   "cell_type": "code",
   "execution_count": null,
   "metadata": {},
   "outputs": [],
   "source": [
    "# 2023 day 1\n",
    "# mv ~/Downloads/input* data_src/2023-day-1-input.txt\n",
    "# big input file looks like: all kinds of words with digits in them\n",
    "# idea: part 1 parse as lines, then iterate over s and reversed(s) to find digits\n",
    "# part 2: map of digit words, then for each position check digit and digit words\n",
    "\n",
    "sample2='''\n",
    "1abc2\n",
    "pqr3stu8vwx\n",
    "a1b2c3d4e5f\n",
    "treb7uchet\n",
    "'''\n",
    "\n",
    "sample3='''\n",
    "two1nine\n",
    "eightwothree\n",
    "abcone2threexyz\n",
    "xtwone3four\n",
    "4nineeightseven2\n",
    "zoneight234\n",
    "7pqrstsixteen\n",
    "'''\n",
    "\n",
    "sample1=open('data_src/2023-day-1-input.txt').read()\n",
    "lines=[s for s in sample1.splitlines() if len(s)>0 ]\n",
    "\n",
    "# part 1\n",
    "n=0\n",
    "for s in lines:\n",
    "    digits=''\n",
    "    for c in s:\n",
    "        if '0' <= c <= '9':\n",
    "            digits+=c\n",
    "            break\n",
    "    for c in reversed(s):\n",
    "        if '0' <= c <= '9':\n",
    "            digits+=c\n",
    "            break\n",
    "    if len(digits)!=2:\n",
    "        continue\n",
    "    n+=int(digits)\n",
    "print(f'part 1: {n=}')\n",
    "\n",
    "# part 2\n",
    "digmap={\n",
    "    'one': 1,\n",
    "    'two': 2,\n",
    "    'three': 3,\n",
    "    'four': 4,\n",
    "    'five': 5,\n",
    "    'six': 6,\n",
    "    'seven': 7,\n",
    "    'eight': 8,\n",
    "    'nine': 9,\n",
    "}\n",
    "n=0\n",
    "for s in lines:\n",
    "    digits=''\n",
    "    for i in range(len(s)):\n",
    "        c=s[i]\n",
    "        if '0' <= c <= '9':\n",
    "            digits+=c\n",
    "        else:\n",
    "            for k, v in digmap.items():\n",
    "                if s[i:].startswith(k):\n",
    "                    digits+=str(v)\n",
    "                    break    \n",
    "    n+=int(digits[0]+digits[-1])\n",
    "print(f'part 2: {n=}')"
   ]
  },
  {
   "cell_type": "code",
   "execution_count": null,
   "metadata": {},
   "outputs": [],
   "source": [
    "# TEMPLATE\n",
    "# 2023 day 1\n",
    "# start_ts=RUN FIRST CELL TO GET TIME CODE BEFORE OPENING THE ASSIGNMENT\n",
    "# mv ~/Downloads/input* data_src/2023-day-1-input.txt\n",
    "# big input file looks like: \n",
    "# idea: part 1 parse ..., then ...\n",
    "\n",
    "sample2='''\n",
    "\n",
    "'''\n",
    "\n",
    "sample1=open('data_src/2023-day-1-input.txt').read()\n",
    "lines=[s for s in sample1.splitlines() if len(s)>0 ]\n",
    "groups=zio.get_line_groups(sample1.splitlines(), nostrip=False)\n",
    "data=[ int(s) for s in lines[0].split(',') ]\n",
    "data=[ s.split() for s in lines ]\n",
    "data=[ [cmd, int(num), 0] for cmd, num in data ]\n",
    "data=[ result.group(1, 2, 3, 4, 5, 6, 7) for s in lines if (result:= re.match(r'(\\w+)\\s*x=([\\d\\-]+)\\.\\.([\\d\\-]+),y=([\\d\\-]+)\\.\\.([\\d\\-]+),z=([\\d\\-]+)\\.\\.([\\d\\-]+)', s)) ]\n",
    "data=[ (row[0], int(row[1]), int(row[2]), int(row[3]), int(row[4]), int(row[5]), int(row[6]) ) for row in data ]\n",
    "# template, remove what's not needed"
   ]
  }
 ],
 "metadata": {
  "kernelspec": {
   "display_name": "Python 3.9.10 ('.venv-pypy': venv)",
   "language": "python",
   "name": "python3"
  },
  "language_info": {
   "codemirror_mode": {
    "name": "ipython",
    "version": 3
   },
   "file_extension": ".py",
   "mimetype": "text/x-python",
   "name": "python",
   "nbconvert_exporter": "python",
   "pygments_lexer": "ipython3",
   "version": "3.10.13"
  },
  "orig_nbformat": 4,
  "vscode": {
   "interpreter": {
    "hash": "d7010e2a1653d53559e0fa20e42ca17494ec8a490802f16a6acb2bec611e573b"
   }
  }
 },
 "nbformat": 4,
 "nbformat_minor": 2
}
