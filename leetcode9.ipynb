{
 "cells": [
  {
   "cell_type": "markdown",
   "metadata": {},
   "source": [
    "# Leetcode 900-999\n",
    "See https://leetcode.com/problems/"
   ]
  },
  {
   "cell_type": "code",
   "execution_count": null,
   "metadata": {},
   "outputs": [],
   "source": [
    "# note that this notebook requires the .venv-pypy environment for pypy 3.9\n",
    "# to activate it from a git bash shell: source .venv-pypy/Scripts/activate\n",
    "# to generate its requirements: pip freeze > .venv-pypy-requirements.txt\n",
    "\n",
    "import collections\n",
    "import itertools\n",
    "import re\n",
    "import copy\n",
    "import math\n",
    "import sys\n",
    "import time\n",
    "import json\n",
    "import heapq\n",
    "from typing import *"
   ]
  },
  {
   "cell_type": "code",
   "execution_count": null,
   "metadata": {},
   "outputs": [],
   "source": [
    "# utility functions and version check\n",
    "\n",
    "def run_sample(obj, sample, funcname):\n",
    "    lines=[s for s in sample.splitlines() if len(s)>0 ]\n",
    "    data=[json.loads(s) for s in lines]\n",
    "    func=getattr(obj, funcname)\n",
    "    res=func(*data[:-1])\n",
    "    if res!=data[-1]:\n",
    "        raise ValueError(f'expected {data[-1]}, actual {res}')\n",
    "\n",
    "print(f'python version: {sys.version}')\n",
    "print(f'# start_ts={int(time.time())}') # supports ranking using an honor system, before starting include this line\n",
    "# in the header of your solution (which should start with a line like # leetcode nnn)"
   ]
  },
  {
   "cell_type": "code",
   "execution_count": null,
   "metadata": {},
   "outputs": [],
   "source": [
    "# leetcode 948\n",
    "# https://leetcode.com/problems/bag-of-tokens/\n",
    "\n",
    "sample1='''\n",
    "[100]\n",
    "50\n",
    "0\n",
    "'''\n",
    "\n",
    "sample2='''\n",
    "[100,200]\n",
    "150\n",
    "1\n",
    "'''\n",
    "\n",
    "sample3='''\n",
    "[100,200,300,400]\n",
    "200\n",
    "2\n",
    "'''\n",
    "\n",
    "sample4='''\n",
    "[52,65,35,88,28,1,4,68,56,95]\n",
    "94\n",
    "5\n",
    "'''\n",
    "\n",
    "class Solution:\n",
    "    # leetcode 948, single traverse, best first (smallest up or biggest down)\n",
    "    # (these are 'no regret moves', which is why a single traverse is enough)\n",
    "    def bagOfTokensScore(self, tokens: List[int], power: int) -> int:\n",
    "        score=0\n",
    "        bestscore=0\n",
    "        tokens.sort()\n",
    "        while True:\n",
    "            # find smallest up\n",
    "            if len(tokens)>0 and tokens[0]<=power:\n",
    "                v=tokens.pop(0)\n",
    "                power-=v\n",
    "                score+=1\n",
    "                if score>bestscore:\n",
    "                    bestscore=score\n",
    "                continue\n",
    "            # find largest down\n",
    "            if score>=1 and len(tokens)>0:\n",
    "                v=tokens.pop(-1)\n",
    "                power+=v\n",
    "                score-=1\n",
    "                continue\n",
    "            # no up or down, done\n",
    "            break        \n",
    "        return bestscore\n",
    "\n",
    "run_sample(Solution(), sample1, 'bagOfTokensScore')\n",
    "run_sample(Solution(), sample2, 'bagOfTokensScore')\n",
    "run_sample(Solution(), sample3, 'bagOfTokensScore')\n",
    "run_sample(Solution(), sample4, 'bagOfTokensScore')"
   ]
  }
 ],
 "metadata": {
  "kernelspec": {
   "display_name": "Python 3.9.10 ('.venv-pypy': venv)",
   "language": "python",
   "name": "python3"
  },
  "language_info": {
   "codemirror_mode": {
    "name": "ipython",
    "version": 3
   },
   "file_extension": ".py",
   "mimetype": "text/x-python",
   "name": "python",
   "nbconvert_exporter": "python",
   "pygments_lexer": "ipython3",
   "version": "3.9.10"
  },
  "orig_nbformat": 4,
  "vscode": {
   "interpreter": {
    "hash": "d7010e2a1653d53559e0fa20e42ca17494ec8a490802f16a6acb2bec611e573b"
   }
  }
 },
 "nbformat": 4,
 "nbformat_minor": 2
}
