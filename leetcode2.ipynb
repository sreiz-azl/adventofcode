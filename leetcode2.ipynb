{
 "cells": [
  {
   "cell_type": "markdown",
   "metadata": {},
   "source": [
    "# Leetcode 200-299\n",
    "See https://leetcode.com/problems/"
   ]
  },
  {
   "cell_type": "code",
   "execution_count": null,
   "metadata": {},
   "outputs": [],
   "source": [
    "# note that this notebook requires the .venv-pypy environment for pypy 3.9\n",
    "# to activate it from a git bash shell: source .venv-pypy/Scripts/activate\n",
    "# to generate its requirements: pip freeze > .venv-pypy-requirements.txt\n",
    "\n",
    "import collections\n",
    "import itertools\n",
    "import re\n",
    "import copy\n",
    "import math\n",
    "import sys\n",
    "import time\n",
    "import json\n",
    "import math\n",
    "from typing import *"
   ]
  },
  {
   "cell_type": "code",
   "execution_count": null,
   "metadata": {},
   "outputs": [],
   "source": [
    "# utility functions and version check\n",
    "\n",
    "def run_sample(obj, sample, funcname):\n",
    "    lines=[s for s in sample.splitlines() if len(s)>0 ]\n",
    "    data=[json.loads(s) for s in lines]\n",
    "    func=getattr(obj, funcname)\n",
    "    res=func(*data[:-1])\n",
    "    if res!=data[-1]:\n",
    "        raise ValueError(f'expected {data[-1]}, actual {res}')\n",
    "\n",
    "print(f'python version: {sys.version}')\n",
    "print(f'# start_ts={int(time.time())}') # supports ranking using an honor system, before starting include this line\n",
    "# in the header of your solution (which should start with a line like # leetcode nnn)"
   ]
  },
  {
   "cell_type": "code",
   "execution_count": null,
   "metadata": {},
   "outputs": [],
   "source": [
    "# leetcode 217\n",
    "# https://leetcode.com/problems/contains-duplicate/\n",
    "\n",
    "sample1='''\n",
    "[1,2,3,1]\n",
    "true\n",
    "'''\n",
    "\n",
    "sample2='''\n",
    "[1,2,3,4]\n",
    "false\n",
    "'''\n",
    "\n",
    "sample3='''\n",
    "[1,1,1,3,3,4,3,2,4,2]\n",
    "true\n",
    "'''\n",
    "\n",
    "class Solution:\n",
    "    # leetcode 217\n",
    "    def containsDuplicate(self, nums: List[int]) -> bool:\n",
    "        return len(nums)!=len(set(nums))\n",
    "\n",
    "run_sample(Solution(), sample1, 'containsDuplicate')\n",
    "run_sample(Solution(), sample2, 'containsDuplicate')\n",
    "run_sample(Solution(), sample3, 'containsDuplicate')"
   ]
  },
  {
   "cell_type": "code",
   "execution_count": null,
   "metadata": {},
   "outputs": [],
   "source": [
    "# leetcode 283\n",
    "# https://leetcode.com/problems/move-zeroes/\n",
    "\n",
    "sample1='''\n",
    "[0,1,0,3,12]\n",
    "[1,3,12,0,0]\n",
    "'''\n",
    "\n",
    "sample2='''\n",
    "[0]\n",
    "[0]\n",
    "'''\n",
    "\n",
    "class Solution:\n",
    "    def moveZeroes2(self, nums: List[int]) -> List[int]:\n",
    "        self.moveZeroes(nums)\n",
    "        return nums\n",
    "\n",
    "    # leetcode 283\n",
    "    def moveZeroes(self, nums: List[int]) -> None:\n",
    "        j=0\n",
    "        zeroes=0\n",
    "        for n in nums:\n",
    "            if n==0:\n",
    "                zeroes+=1\n",
    "            else:\n",
    "                nums[j]=n\n",
    "                j+=1\n",
    "        for i in range(zeroes):\n",
    "            nums[j]=0\n",
    "            j+=1\n",
    "        assert j==len(nums)\n",
    "\n",
    "run_sample(Solution(), sample1, 'moveZeroes2')\n",
    "run_sample(Solution(), sample2, 'moveZeroes2')"
   ]
  }
 ],
 "metadata": {
  "kernelspec": {
   "display_name": "Python 3.9.10 ('.venv-pypy': venv)",
   "language": "python",
   "name": "python3"
  },
  "language_info": {
   "codemirror_mode": {
    "name": "ipython",
    "version": 3
   },
   "file_extension": ".py",
   "mimetype": "text/x-python",
   "name": "python",
   "nbconvert_exporter": "python",
   "pygments_lexer": "ipython3",
   "version": "3.9.10"
  },
  "orig_nbformat": 4,
  "vscode": {
   "interpreter": {
    "hash": "d7010e2a1653d53559e0fa20e42ca17494ec8a490802f16a6acb2bec611e573b"
   }
  }
 },
 "nbformat": 4,
 "nbformat_minor": 2
}
