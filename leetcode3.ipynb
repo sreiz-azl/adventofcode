{
 "cells": [
  {
   "cell_type": "markdown",
   "metadata": {},
   "source": [
    "# Leetcode 300-399\n",
    "See https://leetcode.com/problems/"
   ]
  },
  {
   "cell_type": "code",
   "execution_count": null,
   "metadata": {},
   "outputs": [],
   "source": [
    "# note that this notebook requires the .venv-pypy environment for pypy 3.9\n",
    "# to activate it from a git bash shell: source .venv-pypy/Scripts/activate\n",
    "# to generate its requirements: pip freeze > .venv-pypy-requirements.txt\n",
    "\n",
    "import collections\n",
    "import itertools\n",
    "import re\n",
    "import copy\n",
    "import math\n",
    "import sys\n",
    "import time\n",
    "import json\n",
    "import heapq\n",
    "from typing import *"
   ]
  },
  {
   "cell_type": "code",
   "execution_count": null,
   "metadata": {},
   "outputs": [],
   "source": [
    "# utility functions and version check\n",
    "\n",
    "def run_sample(obj, sample, funcname):\n",
    "    lines=[s for s in sample.splitlines() if len(s)>0 ]\n",
    "    data=[json.loads(s) for s in lines]\n",
    "    func=getattr(obj, funcname)\n",
    "    res=func(*data[:-1])\n",
    "    if res!=data[-1]:\n",
    "        raise ValueError(f'expected {data[-1]}, actual {res}')\n",
    "\n",
    "print(f'python version: {sys.version}')\n",
    "print(f'# start_ts={int(time.time())}') # supports ranking using an honor system, before starting include this line\n",
    "# in the header of your solution (which should start with a line like # leetcode nnn)"
   ]
  },
  {
   "cell_type": "code",
   "execution_count": null,
   "metadata": {},
   "outputs": [],
   "source": [
    "# leetcode 344\n",
    "# https://leetcode.com/problems/reverse-string/\n",
    "\n",
    "sample1='''\n",
    "[\"h\",\"e\",\"l\",\"l\",\"o\"]\n",
    "[\"o\",\"l\",\"l\",\"e\",\"h\"]\n",
    "'''\n",
    "\n",
    "sample2='''\n",
    "[\"H\",\"a\",\"n\",\"n\",\"a\",\"h\"]\n",
    "[\"h\",\"a\",\"n\",\"n\",\"a\",\"H\"]\n",
    "'''\n",
    "\n",
    "class Solution:\n",
    "    def reverseString2(self, s: List[str]) -> List[str]:\n",
    "        self.reverseString(s)\n",
    "        return s\n",
    "\n",
    "    # leetcode 344 \n",
    "    def reverseString(self, s: List[str]) -> None:\n",
    "        for i in range(len(s)//2):\n",
    "            saved=s[i]\n",
    "            newindex= -1-i\n",
    "            s[i]=s[newindex]\n",
    "            s[newindex]=saved        \n",
    "\n",
    "run_sample(Solution(), sample1, 'reverseString2')\n",
    "run_sample(Solution(), sample2, 'reverseString2')"
   ]
  },
  {
   "cell_type": "code",
   "execution_count": null,
   "metadata": {},
   "outputs": [],
   "source": [
    "# leetcode 350\n",
    "# https://leetcode.com/problems/intersection-of-two-arrays-ii/\n",
    "\n",
    "sample1='''\n",
    "[1,2,2,1]\n",
    "[2,2]\n",
    "[2,2]\n",
    "'''\n",
    "\n",
    "sample2='''\n",
    "[4,9,5]\n",
    "[9,4,9,8,4]\n",
    "[4,9]\n",
    "'''\n",
    "\n",
    "class Solution:\n",
    "    # leetcode 350\n",
    "    def intersect(self, nums1: List[int], nums2: List[int]) -> List[int]:\n",
    "        c1=collections.Counter(nums1)\n",
    "        c2=collections.Counter(nums2)\n",
    "        c3={ k: min(v, c2[k]) for k,v in c1.items() if k in c2 }\n",
    "        res=[[k]*v for k,v in c3.items()]\n",
    "        res=list(itertools.chain(*res))\n",
    "        return res\n",
    "\n",
    "run_sample(Solution(), sample1, 'intersect')\n",
    "run_sample(Solution(), sample2, 'intersect')"
   ]
  },
  {
   "cell_type": "code",
   "execution_count": null,
   "metadata": {},
   "outputs": [],
   "source": [
    "# leetcode 384\n",
    "# https://leetcode.com/problems/shuffle-an-array/\n",
    "\n",
    "import random\n",
    "\n",
    "class Solution:\n",
    "    # leetcode 384\n",
    "    def __init__(self, nums: List[int]):\n",
    "        self.backup=list(nums)        \n",
    "\n",
    "    def reset(self) -> List[int]:\n",
    "        return list(self.backup)        \n",
    "\n",
    "    def shuffle(self) -> List[int]:\n",
    "        return random.sample(self.backup, k=len(self.backup))\n"
   ]
  },
  {
   "cell_type": "code",
   "execution_count": null,
   "metadata": {},
   "outputs": [],
   "source": [
    "# leetcode 387\n",
    "# https://leetcode.com/problems/first-unique-character-in-a-string/\n",
    "\n",
    "sample1='''\n",
    "\"leetcode\"\n",
    "0\n",
    "'''\n",
    "\n",
    "sample2='''\n",
    "\"loveleetcode\"\n",
    "2\n",
    "'''\n",
    "\n",
    "sample3='''\n",
    "\"aabb\"\n",
    "-1\n",
    "'''\n",
    "\n",
    "sample4='''\n",
    "\"\"\n",
    "-1\n",
    "'''\n",
    "\n",
    "class Solution:\n",
    "    # leetcode 387\n",
    "    def firstUniqChar(self, s: str) -> int:\n",
    "        cnt=collections.Counter(list(s))\n",
    "        for i in range(len(s)):\n",
    "            if cnt[s[i]]<2:\n",
    "                return i\n",
    "        return -1\n",
    "\n",
    "run_sample(Solution(), sample1, 'firstUniqChar')\n",
    "run_sample(Solution(), sample2, 'firstUniqChar')\n",
    "run_sample(Solution(), sample3, 'firstUniqChar')\n",
    "run_sample(Solution(), sample4, 'firstUniqChar')"
   ]
  }
 ],
 "metadata": {
  "kernelspec": {
   "display_name": "Python 3.9.10 ('.venv-pypy': venv)",
   "language": "python",
   "name": "python3"
  },
  "language_info": {
   "codemirror_mode": {
    "name": "ipython",
    "version": 3
   },
   "file_extension": ".py",
   "mimetype": "text/x-python",
   "name": "python",
   "nbconvert_exporter": "python",
   "pygments_lexer": "ipython3",
   "version": "3.9.10"
  },
  "orig_nbformat": 4,
  "vscode": {
   "interpreter": {
    "hash": "d7010e2a1653d53559e0fa20e42ca17494ec8a490802f16a6acb2bec611e573b"
   }
  }
 },
 "nbformat": 4,
 "nbformat_minor": 2
}
