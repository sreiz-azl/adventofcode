{
 "cells": [
  {
   "cell_type": "markdown",
   "metadata": {},
   "source": [
    "## Advent of code 2019 day 1-10\n",
    "See https://adventofcode.com/"
   ]
  },
  {
   "cell_type": "code",
   "execution_count": null,
   "metadata": {},
   "outputs": [],
   "source": [
    "# note that this notebook requires the .venv-pypy environment for pypy 3.8-v7.3.7\n",
    "# to activate it from a git bash shell: source .venv/Scripts/activate\n",
    "# to generate its requirements: pip freeze > .venv-requirements.txt\n",
    "# to re-install from requirements: python -m venv .venv; source .venv/Scripts/activate; pip install -r .venv-requirements.txt\n",
    "# (may need the full path to python, e.g. ~/AppData/Local/Programs/Python/Python310/python.exe)\n",
    "\n",
    "import collections\n",
    "import itertools\n",
    "import re\n",
    "import copy\n",
    "import math\n",
    "import sys\n",
    "import time\n",
    "#import json\n",
    "import cProfile"
   ]
  },
  {
   "cell_type": "code",
   "execution_count": null,
   "metadata": {},
   "outputs": [],
   "source": [
    "# utility functions and version check\n",
    "\n",
    "def get_line_groups(lines):\n",
    "    '''return list of lists of lines, each separated by empty lines, ignores empty lines from start and end'''\n",
    "    lines=list(lines)\n",
    "    lines.append('') # add terminator\n",
    "    res=[]\n",
    "    group=[]\n",
    "    for line in lines:\n",
    "        line=line.strip()\n",
    "        if len(line)>0:\n",
    "            group.append(line)\n",
    "        elif len(group)>0: # close group\n",
    "            res.append(group)\n",
    "            group=[]\n",
    "    return res\n",
    "\n",
    "class StopExecution(Exception):\n",
    "    def _render_traceback_(self):\n",
    "        pass\n",
    "\n",
    "def exit():\n",
    "    raise StopExecution()\n",
    "    \n",
    "print(f'python version: {sys.version}')\n",
    "print(f'# start_ts={int(time.time())}') # supports ranking using an honor system, before starting include this line\n",
    "# in the header of your solution (which should start with a line like # 2019 day 2), then whenever you want save\n",
    "# a private leaderboard json file, and run python privaterank.py filename.json"
   ]
  },
  {
   "cell_type": "code",
   "execution_count": null,
   "metadata": {},
   "outputs": [],
   "source": [
    "# 2019 day 2\n",
    "# start_ts=1643360000\n",
    "# mv ~/Downloads/input data_src/2019-day-2-input.txt\n",
    "# big input file looks like: about 100 numbers\n",
    "# idea: part 1 parse as single list, then simply run\n",
    "\n",
    "sample1='''\n",
    "1,9,10,3,2,3,11,0,99,30,40,50\n",
    "'''\n",
    "\n",
    "sample2='''\n",
    "1,1,1,4,99,5,6,0,99\n",
    "'''\n",
    "\n",
    "def run_opcodes(data):\n",
    "    i=0\n",
    "    while True:\n",
    "        if data[i]==1:\n",
    "            a=data[data[i+1]]\n",
    "            b=data[data[i+2]]\n",
    "            data[data[i+3]]=a+b\n",
    "            i+=4\n",
    "        elif data[i]==2:\n",
    "            a=data[data[i+1]]\n",
    "            b=data[data[i+2]]\n",
    "            data[data[i+3]]=a*b\n",
    "            i+=4\n",
    "        elif data[i]==99:\n",
    "            break\n",
    "        else:\n",
    "            assert False\n",
    "\n",
    "sample1=open('data_src/2019-day-2-input.txt').read()\n",
    "lines=[s for s in sample1.splitlines() if len(s)>0 ]\n",
    "data0=[ int(s) for s in lines[0].split(',') ]\n",
    "for noun in range(100):\n",
    "    for verb in range(100):\n",
    "        data=list(data0)\n",
    "        data[1]=noun\n",
    "        data[2]=verb\n",
    "        run_opcodes(data)\n",
    "        if data[0]==19690720:\n",
    "            answer=100*noun+verb\n",
    "            print(f'{answer=}')\n",
    "            exit()"
   ]
  },
  {
   "cell_type": "code",
   "execution_count": null,
   "metadata": {},
   "outputs": [],
   "source": [
    "# TEMPLATE\n",
    "# 2019 day 6\n",
    "# start_ts=RUN FIRST CELL TO GET TIME CODE BEFORE OPENING THE ASSIGNMENT\n",
    "# mv ~/Downloads/input data_src/2019-day-6-input.txt\n",
    "# big input file looks like: \n",
    "# idea: part 1 parse ..., then ...\n",
    "\n",
    "sample1='''\n",
    "\n",
    "'''\n",
    "\n",
    "#sample1=open('data_src/2019-day-6-input.txt').read()\n",
    "lines=[s for s in sample1.splitlines() if len(s)>0 ]\n",
    "data=[ int(s) for s in lines[0].split(',') ]\n",
    "groups=get_line_groups(lines)\n",
    "data0=[ s.split() for s in lines ]\n",
    "data0=[ [cmd, int(num), 0] for cmd, num in data0 ]\n",
    "data=[ result.group(1, 2, 3, 4, 5, 6, 7) for s in lines if (result:= re.match(r'(\\w+)\\s*x=([\\d\\-]+)\\.\\.([\\d\\-]+),y=([\\d\\-]+)\\.\\.([\\d\\-]+),z=([\\d\\-]+)\\.\\.([\\d\\-]+)', s)) ]\n",
    "data=[ (row[0], int(row[1]), int(row[2]), int(row[3]), int(row[4]), int(row[5]), int(row[6]) ) for row in data ]\n",
    "# template, remove what's not needed"
   ]
  }
 ],
 "metadata": {
  "interpreter": {
   "hash": "c4d9d8d8a7a8d327093c9e596ea95aa9d625b308fdbabc0bff629eae26fdac0f"
  },
  "kernelspec": {
   "display_name": "Python 3.8.12 64-bit ('.venv-pypy': venv)",
   "language": "python",
   "name": "python3"
  },
  "language_info": {
   "codemirror_mode": {
    "name": "ipython",
    "version": 3
   },
   "file_extension": ".py",
   "mimetype": "text/x-python",
   "name": "python",
   "nbconvert_exporter": "python",
   "pygments_lexer": "ipython3",
   "version": "3.8.12"
  },
  "orig_nbformat": 4
 },
 "nbformat": 4,
 "nbformat_minor": 2
}
