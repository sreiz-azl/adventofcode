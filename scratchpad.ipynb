{
 "cells": [
  {
   "cell_type": "code",
   "execution_count": null,
   "metadata": {},
   "outputs": [],
   "source": [
    "import json\n",
    "with open('data_src/ranking/2022/98624.json') as f:\n",
    "    data=json.load(f)\n",
    "    print(data.keys())\n"
   ]
  }
 ],
 "metadata": {
  "kernelspec": {
   "display_name": ".venv-pypy",
   "language": "python",
   "name": "python3"
  },
  "language_info": {
   "codemirror_mode": {
    "name": "ipython",
    "version": 3
   },
   "file_extension": ".py",
   "mimetype": "text/x-python",
   "name": "python",
   "nbconvert_exporter": "python",
   "pygments_lexer": "ipython3",
   "version": "3.9.10"
  },
  "orig_nbformat": 4,
  "vscode": {
   "interpreter": {
    "hash": "d7010e2a1653d53559e0fa20e42ca17494ec8a490802f16a6acb2bec611e573b"
   }
  }
 },
 "nbformat": 4,
 "nbformat_minor": 2
}
