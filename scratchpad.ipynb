{
 "cells": [
  {
   "cell_type": "code",
   "execution_count": null,
   "metadata": {},
   "outputs": [],
   "source": [
    "# loading a leaderboard json file\n",
    "\n",
    "import json\n",
    "with open('data_src/ranking/2022/189709.json') as f:\n",
    "    data=json.load(f)\n",
    "    print(data.keys())\n"
   ]
  },
  {
   "cell_type": "code",
   "execution_count": null,
   "metadata": {},
   "outputs": [],
   "source": [
    "# explores leaderboard json files\n",
    "\n",
    "d2=[]\n",
    "for member in data['members'].values():\n",
    "    name=member['name']\n",
    "    id=int(member['id'])\n",
    "    for daynum0, stardata in member['completion_day_level'].items():\n",
    "        daynum=int(daynum0)\n",
    "        assert 1<=daynum<=25\n",
    "        for sis, sd2 in stardata.items():\n",
    "            si=int(sis)\n",
    "            d2.append([name, daynum, si, sd2['star_index'], sd2['get_star_ts']])\n",
    "d2.sort(key=lambda tup: tup[3])\n",
    "d2[:5]"
   ]
  }
 ],
 "metadata": {
  "kernelspec": {
   "display_name": ".venv-pypy",
   "language": "python",
   "name": "python3"
  },
  "language_info": {
   "codemirror_mode": {
    "name": "ipython",
    "version": 3
   },
   "file_extension": ".py",
   "mimetype": "text/x-python",
   "name": "python",
   "nbconvert_exporter": "python",
   "pygments_lexer": "ipython3",
   "version": "3.9.10"
  },
  "orig_nbformat": 4,
  "vscode": {
   "interpreter": {
    "hash": "d7010e2a1653d53559e0fa20e42ca17494ec8a490802f16a6acb2bec611e573b"
   }
  }
 },
 "nbformat": 4,
 "nbformat_minor": 2
}
